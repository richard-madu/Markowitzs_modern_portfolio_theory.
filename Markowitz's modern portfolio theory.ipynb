{
 "cells": [
  {
   "cell_type": "markdown",
   "id": "60dcbdd6",
   "metadata": {},
   "source": [
    "## Markowitz's modern portfolio theory\n",
    "\n",
    "The modern portfolio theory (MPT) is a practical method for selecting investments in order to maximize their overall returns within an acceptable level of risk. This mathematical framework is used to build a portfolio of investments that maximize the amount of expected return for the collective given level of risk.\n",
    "\n",
    "American economist Harry Markowitz pioneered this theory in his paper \"Portfolio Selection,\" which was published in the Journal of Finance in 1952.He was later awarded a Nobel Prize for his work on modern portfolio theory.\n",
    "\n",
    "\n"
   ]
  },
  {
   "cell_type": "markdown",
   "id": "2ffed860",
   "metadata": {},
   "source": [
    "Markowitz's Modern Portfolio Theory (MPT), developed by Harry Markowitz in 1952, is a fundamental concept in the field of finance and investment. It provides a framework for constructing an investment portfolio that aims to achieve the optimal trade-off between risk and return. The key idea behind MPT is diversification, which involves spreading investments across different assets to reduce risk without sacrificing returns.\n",
    "\n",
    "Here are the main components and principles of Markowitz's Modern Portfolio Theory:\n",
    "\n",
    "1. **Asset Selection:**\n",
    "   - MPT starts with a set of available assets or investments. These assets can include stocks, bonds, real estate, and other financial instruments.\n",
    "\n",
    "2. **Expected Return:**\n",
    "   - For each asset in the portfolio, investors estimate the expected return. The expected return represents the mean or average return that an asset is expected to generate in the future.\n",
    "\n",
    "3. **Risk (Variance):**\n",
    "   - MPT quantifies risk as the variance or standard deviation of an asset's returns. A lower standard deviation indicates lower risk, while a higher standard deviation implies higher risk.\n",
    "\n",
    "4. **Covariance and Correlation:**\n",
    "   - MPT also considers the relationship between the returns of different assets. The covariance and correlation coefficients help measure how assets move in relation to each other. Negative correlations can help reduce portfolio risk.\n",
    "\n",
    "5. **Efficient Frontier:**\n",
    "   - The efficient frontier is a graphical representation of all possible portfolios that maximize expected return for a given level of risk (or minimize risk for a given level of return). Portfolios on the efficient frontier are considered optimal because they provide the best risk-return trade-off.\n",
    "\n",
    "6. **Portfolio Diversification:**\n",
    "   - MPT encourages diversification, which means combining assets with different risk-return profiles in a portfolio. Diversification can reduce overall portfolio risk without significantly sacrificing expected return.\n",
    "\n",
    "7. **Risk-Free Asset:**\n",
    "   - MPT introduces a risk-free asset, typically represented by government bonds. The risk-free rate is the return investors can earn with no risk. It serves as a baseline for comparing the performance of risky portfolios.\n",
    "\n",
    "8. **Capital Market Line (CML):**\n",
    "   - The Capital Market Line represents a combination of the risk-free asset and a risky portfolio on the efficient frontier. It shows the optimal trade-off between risk and return for an investor with various risk preferences.\n",
    "\n",
    "9. **Tangency Portfolio (Market Portfolio):**\n",
    "   - The point where the Capital Market Line (CML) is tangent to the efficient frontier is known as the Tangency Portfolio or Market Portfolio. This portfolio represents the optimal combination of risky assets and the risk-free asset for a given level of risk aversion.\n",
    "\n",
    "10. **Asset Allocation:**\n",
    "    - Investors can select their desired level of risk by adjusting the allocation of assets between the risky portfolio (based on the efficient frontier) and the risk-free asset. This allocation is known as the optimal asset allocation.\n",
    "\n",
    "11. **Sharpe Ratio:**\n",
    "    - The Sharpe ratio measures the excess return (return above the risk-free rate) per unit of risk (standard deviation). It helps investors evaluate the risk-adjusted performance of their portfolios.\n",
    "\n",
    "Markowitz's Modern Portfolio Theory has been foundational in the field of finance and has influenced the development of various portfolio optimization techniques and risk management strategies. Investors use MPT principles to build diversified portfolios that align with their risk tolerance and investment goals."
   ]
  },
  {
   "cell_type": "code",
   "execution_count": 1,
   "id": "28165c6e",
   "metadata": {},
   "outputs": [],
   "source": [
    "#import the libraries relevant to the project\n",
    "import pandas as pd\n",
    "import numpy as np\n",
    "import yfinance as yf\n",
    "import matplotlib.pyplot as plt\n",
    "from scipy.optimize import minimize"
   ]
  },
  {
   "cell_type": "code",
   "execution_count": 40,
   "id": "a8596434",
   "metadata": {},
   "outputs": [],
   "source": [
    "# define the S&P tech asset tickers\n",
    "asset = [\"AAPL\", \"MSFT\", \"AMZN\", \"GOOGL\", \"META\", \"INTC\", \"NVDA\", \"ADBE\", \"CRM\", \"PYPL\" , \"AMD\", \"TXN\", \"AVGO\", \"ORCL\", \"IBM\", \"CSCO\", \"QCOM\", \"NFLX\", \"AMAT\", \"MU\"]"
   ]
  },
  {
   "cell_type": "code",
   "execution_count": 8,
   "id": "ecb9892e",
   "metadata": {},
   "outputs": [],
   "source": [
    "# Define the start and end date for historical data\n",
    "start_date = '2020-01-01'\n",
    "end_date = '2022-01-01'"
   ]
  },
  {
   "cell_type": "code",
   "execution_count": 9,
   "id": "f817a36c",
   "metadata": {},
   "outputs": [
    {
     "name": "stdout",
     "output_type": "stream",
     "text": [
      "[*********************100%%**********************]  20 of 20 completed\n"
     ]
    }
   ],
   "source": [
    "# Download historical data for the selected assets\n",
    "data = yf.download(asset, start=start_date, end=end_date)['Adj Close']"
   ]
  },
  {
   "cell_type": "code",
   "execution_count": 10,
   "id": "2f2b73f3",
   "metadata": {},
   "outputs": [
    {
     "data": {
      "text/html": [
       "<div>\n",
       "<style scoped>\n",
       "    .dataframe tbody tr th:only-of-type {\n",
       "        vertical-align: middle;\n",
       "    }\n",
       "\n",
       "    .dataframe tbody tr th {\n",
       "        vertical-align: top;\n",
       "    }\n",
       "\n",
       "    .dataframe thead th {\n",
       "        text-align: right;\n",
       "    }\n",
       "</style>\n",
       "<table border=\"1\" class=\"dataframe\">\n",
       "  <thead>\n",
       "    <tr style=\"text-align: right;\">\n",
       "      <th></th>\n",
       "      <th>AAPL</th>\n",
       "      <th>ADBE</th>\n",
       "      <th>AMAT</th>\n",
       "      <th>AMD</th>\n",
       "      <th>AMZN</th>\n",
       "      <th>AVGO</th>\n",
       "      <th>CRM</th>\n",
       "      <th>CSCO</th>\n",
       "      <th>GOOGL</th>\n",
       "      <th>IBM</th>\n",
       "      <th>INTC</th>\n",
       "      <th>META</th>\n",
       "      <th>MSFT</th>\n",
       "      <th>MU</th>\n",
       "      <th>NFLX</th>\n",
       "      <th>NVDA</th>\n",
       "      <th>ORCL</th>\n",
       "      <th>PYPL</th>\n",
       "      <th>QCOM</th>\n",
       "      <th>TXN</th>\n",
       "    </tr>\n",
       "    <tr>\n",
       "      <th>Date</th>\n",
       "      <th></th>\n",
       "      <th></th>\n",
       "      <th></th>\n",
       "      <th></th>\n",
       "      <th></th>\n",
       "      <th></th>\n",
       "      <th></th>\n",
       "      <th></th>\n",
       "      <th></th>\n",
       "      <th></th>\n",
       "      <th></th>\n",
       "      <th></th>\n",
       "      <th></th>\n",
       "      <th></th>\n",
       "      <th></th>\n",
       "      <th></th>\n",
       "      <th></th>\n",
       "      <th></th>\n",
       "      <th></th>\n",
       "      <th></th>\n",
       "    </tr>\n",
       "  </thead>\n",
       "  <tbody>\n",
       "    <tr>\n",
       "      <th>2020-01-02</th>\n",
       "      <td>73.249039</td>\n",
       "      <td>334.429993</td>\n",
       "      <td>59.953072</td>\n",
       "      <td>49.099998</td>\n",
       "      <td>94.900497</td>\n",
       "      <td>284.935577</td>\n",
       "      <td>166.990005</td>\n",
       "      <td>43.408051</td>\n",
       "      <td>68.433998</td>\n",
       "      <td>107.512413</td>\n",
       "      <td>54.564041</td>\n",
       "      <td>209.779999</td>\n",
       "      <td>155.093674</td>\n",
       "      <td>54.616463</td>\n",
       "      <td>329.809998</td>\n",
       "      <td>59.749298</td>\n",
       "      <td>50.739220</td>\n",
       "      <td>110.750000</td>\n",
       "      <td>81.464775</td>\n",
       "      <td>117.016319</td>\n",
       "    </tr>\n",
       "    <tr>\n",
       "      <th>2020-01-03</th>\n",
       "      <td>72.536903</td>\n",
       "      <td>331.809998</td>\n",
       "      <td>58.998821</td>\n",
       "      <td>48.599998</td>\n",
       "      <td>93.748497</td>\n",
       "      <td>277.688171</td>\n",
       "      <td>166.169998</td>\n",
       "      <td>42.699825</td>\n",
       "      <td>68.075996</td>\n",
       "      <td>106.654968</td>\n",
       "      <td>53.900375</td>\n",
       "      <td>208.669998</td>\n",
       "      <td>153.162506</td>\n",
       "      <td>53.768478</td>\n",
       "      <td>325.899994</td>\n",
       "      <td>58.792953</td>\n",
       "      <td>50.560528</td>\n",
       "      <td>108.760002</td>\n",
       "      <td>79.930817</td>\n",
       "      <td>115.462952</td>\n",
       "    </tr>\n",
       "    <tr>\n",
       "      <th>2020-01-06</th>\n",
       "      <td>73.114891</td>\n",
       "      <td>333.709991</td>\n",
       "      <td>57.726513</td>\n",
       "      <td>48.389999</td>\n",
       "      <td>95.143997</td>\n",
       "      <td>277.272858</td>\n",
       "      <td>173.449997</td>\n",
       "      <td>42.852222</td>\n",
       "      <td>69.890503</td>\n",
       "      <td>106.464432</td>\n",
       "      <td>53.747913</td>\n",
       "      <td>212.600006</td>\n",
       "      <td>153.558365</td>\n",
       "      <td>52.821884</td>\n",
       "      <td>335.829987</td>\n",
       "      <td>59.039505</td>\n",
       "      <td>50.823860</td>\n",
       "      <td>110.169998</td>\n",
       "      <td>79.462395</td>\n",
       "      <td>114.659195</td>\n",
       "    </tr>\n",
       "    <tr>\n",
       "      <th>2020-01-07</th>\n",
       "      <td>72.771011</td>\n",
       "      <td>333.390015</td>\n",
       "      <td>59.394016</td>\n",
       "      <td>48.250000</td>\n",
       "      <td>95.343002</td>\n",
       "      <td>276.318359</td>\n",
       "      <td>176.000000</td>\n",
       "      <td>42.574314</td>\n",
       "      <td>69.755501</td>\n",
       "      <td>106.535866</td>\n",
       "      <td>52.851070</td>\n",
       "      <td>213.059998</td>\n",
       "      <td>152.158279</td>\n",
       "      <td>57.456242</td>\n",
       "      <td>330.750000</td>\n",
       "      <td>59.754272</td>\n",
       "      <td>50.936726</td>\n",
       "      <td>109.669998</td>\n",
       "      <td>81.721970</td>\n",
       "      <td>116.871819</td>\n",
       "    </tr>\n",
       "    <tr>\n",
       "      <th>2020-01-08</th>\n",
       "      <td>73.941628</td>\n",
       "      <td>337.869995</td>\n",
       "      <td>59.355465</td>\n",
       "      <td>47.830002</td>\n",
       "      <td>94.598503</td>\n",
       "      <td>272.871399</td>\n",
       "      <td>177.330002</td>\n",
       "      <td>42.601208</td>\n",
       "      <td>70.251999</td>\n",
       "      <td>107.425079</td>\n",
       "      <td>52.886944</td>\n",
       "      <td>215.220001</td>\n",
       "      <td>154.581924</td>\n",
       "      <td>56.716724</td>\n",
       "      <td>339.260010</td>\n",
       "      <td>59.866348</td>\n",
       "      <td>51.135105</td>\n",
       "      <td>111.820000</td>\n",
       "      <td>81.483154</td>\n",
       "      <td>117.187904</td>\n",
       "    </tr>\n",
       "    <tr>\n",
       "      <th>...</th>\n",
       "      <td>...</td>\n",
       "      <td>...</td>\n",
       "      <td>...</td>\n",
       "      <td>...</td>\n",
       "      <td>...</td>\n",
       "      <td>...</td>\n",
       "      <td>...</td>\n",
       "      <td>...</td>\n",
       "      <td>...</td>\n",
       "      <td>...</td>\n",
       "      <td>...</td>\n",
       "      <td>...</td>\n",
       "      <td>...</td>\n",
       "      <td>...</td>\n",
       "      <td>...</td>\n",
       "      <td>...</td>\n",
       "      <td>...</td>\n",
       "      <td>...</td>\n",
       "      <td>...</td>\n",
       "      <td>...</td>\n",
       "    </tr>\n",
       "    <tr>\n",
       "      <th>2021-12-27</th>\n",
       "      <td>178.527756</td>\n",
       "      <td>577.679993</td>\n",
       "      <td>160.087677</td>\n",
       "      <td>154.360001</td>\n",
       "      <td>169.669495</td>\n",
       "      <td>641.669678</td>\n",
       "      <td>258.299988</td>\n",
       "      <td>60.092018</td>\n",
       "      <td>147.906494</td>\n",
       "      <td>120.822327</td>\n",
       "      <td>48.978291</td>\n",
       "      <td>346.179993</td>\n",
       "      <td>336.971680</td>\n",
       "      <td>93.241409</td>\n",
       "      <td>613.119995</td>\n",
       "      <td>309.050995</td>\n",
       "      <td>87.013092</td>\n",
       "      <td>192.009995</td>\n",
       "      <td>178.767929</td>\n",
       "      <td>182.546692</td>\n",
       "    </tr>\n",
       "    <tr>\n",
       "      <th>2021-12-28</th>\n",
       "      <td>177.498138</td>\n",
       "      <td>569.359985</td>\n",
       "      <td>157.057480</td>\n",
       "      <td>153.149994</td>\n",
       "      <td>170.660995</td>\n",
       "      <td>636.645081</td>\n",
       "      <td>255.449997</td>\n",
       "      <td>60.196243</td>\n",
       "      <td>146.686996</td>\n",
       "      <td>121.749466</td>\n",
       "      <td>48.808552</td>\n",
       "      <td>346.220001</td>\n",
       "      <td>335.790833</td>\n",
       "      <td>91.770180</td>\n",
       "      <td>610.710022</td>\n",
       "      <td>302.828979</td>\n",
       "      <td>86.148201</td>\n",
       "      <td>190.100006</td>\n",
       "      <td>177.319199</td>\n",
       "      <td>181.842545</td>\n",
       "    </tr>\n",
       "    <tr>\n",
       "      <th>2021-12-29</th>\n",
       "      <td>177.587265</td>\n",
       "      <td>569.289978</td>\n",
       "      <td>158.375824</td>\n",
       "      <td>148.259995</td>\n",
       "      <td>169.201004</td>\n",
       "      <td>640.080383</td>\n",
       "      <td>254.539993</td>\n",
       "      <td>60.603683</td>\n",
       "      <td>146.654999</td>\n",
       "      <td>122.410400</td>\n",
       "      <td>48.874561</td>\n",
       "      <td>342.940002</td>\n",
       "      <td>336.479706</td>\n",
       "      <td>94.959518</td>\n",
       "      <td>610.539978</td>\n",
       "      <td>299.623138</td>\n",
       "      <td>85.720612</td>\n",
       "      <td>189.970001</td>\n",
       "      <td>178.643219</td>\n",
       "      <td>181.566574</td>\n",
       "    </tr>\n",
       "    <tr>\n",
       "      <th>2021-12-30</th>\n",
       "      <td>176.419052</td>\n",
       "      <td>570.530029</td>\n",
       "      <td>155.424332</td>\n",
       "      <td>145.149994</td>\n",
       "      <td>168.644501</td>\n",
       "      <td>632.914673</td>\n",
       "      <td>255.330002</td>\n",
       "      <td>60.281525</td>\n",
       "      <td>146.200500</td>\n",
       "      <td>122.924454</td>\n",
       "      <td>48.789700</td>\n",
       "      <td>344.359985</td>\n",
       "      <td>333.891785</td>\n",
       "      <td>92.708214</td>\n",
       "      <td>612.090027</td>\n",
       "      <td>295.478455</td>\n",
       "      <td>85.526268</td>\n",
       "      <td>191.880005</td>\n",
       "      <td>175.314011</td>\n",
       "      <td>180.234421</td>\n",
       "    </tr>\n",
       "    <tr>\n",
       "      <th>2021-12-31</th>\n",
       "      <td>175.795364</td>\n",
       "      <td>567.059998</td>\n",
       "      <td>154.814377</td>\n",
       "      <td>143.899994</td>\n",
       "      <td>166.716995</td>\n",
       "      <td>633.228638</td>\n",
       "      <td>254.130005</td>\n",
       "      <td>60.044643</td>\n",
       "      <td>144.852005</td>\n",
       "      <td>122.694984</td>\n",
       "      <td>48.563385</td>\n",
       "      <td>336.350006</td>\n",
       "      <td>330.939758</td>\n",
       "      <td>92.075592</td>\n",
       "      <td>602.440002</td>\n",
       "      <td>293.730743</td>\n",
       "      <td>84.748840</td>\n",
       "      <td>188.580002</td>\n",
       "      <td>175.448349</td>\n",
       "      <td>179.339951</td>\n",
       "    </tr>\n",
       "  </tbody>\n",
       "</table>\n",
       "<p>505 rows × 20 columns</p>\n",
       "</div>"
      ],
      "text/plain": [
       "                  AAPL        ADBE        AMAT         AMD        AMZN  \\\n",
       "Date                                                                     \n",
       "2020-01-02   73.249039  334.429993   59.953072   49.099998   94.900497   \n",
       "2020-01-03   72.536903  331.809998   58.998821   48.599998   93.748497   \n",
       "2020-01-06   73.114891  333.709991   57.726513   48.389999   95.143997   \n",
       "2020-01-07   72.771011  333.390015   59.394016   48.250000   95.343002   \n",
       "2020-01-08   73.941628  337.869995   59.355465   47.830002   94.598503   \n",
       "...                ...         ...         ...         ...         ...   \n",
       "2021-12-27  178.527756  577.679993  160.087677  154.360001  169.669495   \n",
       "2021-12-28  177.498138  569.359985  157.057480  153.149994  170.660995   \n",
       "2021-12-29  177.587265  569.289978  158.375824  148.259995  169.201004   \n",
       "2021-12-30  176.419052  570.530029  155.424332  145.149994  168.644501   \n",
       "2021-12-31  175.795364  567.059998  154.814377  143.899994  166.716995   \n",
       "\n",
       "                  AVGO         CRM       CSCO       GOOGL         IBM  \\\n",
       "Date                                                                    \n",
       "2020-01-02  284.935577  166.990005  43.408051   68.433998  107.512413   \n",
       "2020-01-03  277.688171  166.169998  42.699825   68.075996  106.654968   \n",
       "2020-01-06  277.272858  173.449997  42.852222   69.890503  106.464432   \n",
       "2020-01-07  276.318359  176.000000  42.574314   69.755501  106.535866   \n",
       "2020-01-08  272.871399  177.330002  42.601208   70.251999  107.425079   \n",
       "...                ...         ...        ...         ...         ...   \n",
       "2021-12-27  641.669678  258.299988  60.092018  147.906494  120.822327   \n",
       "2021-12-28  636.645081  255.449997  60.196243  146.686996  121.749466   \n",
       "2021-12-29  640.080383  254.539993  60.603683  146.654999  122.410400   \n",
       "2021-12-30  632.914673  255.330002  60.281525  146.200500  122.924454   \n",
       "2021-12-31  633.228638  254.130005  60.044643  144.852005  122.694984   \n",
       "\n",
       "                 INTC        META        MSFT         MU        NFLX  \\\n",
       "Date                                                                   \n",
       "2020-01-02  54.564041  209.779999  155.093674  54.616463  329.809998   \n",
       "2020-01-03  53.900375  208.669998  153.162506  53.768478  325.899994   \n",
       "2020-01-06  53.747913  212.600006  153.558365  52.821884  335.829987   \n",
       "2020-01-07  52.851070  213.059998  152.158279  57.456242  330.750000   \n",
       "2020-01-08  52.886944  215.220001  154.581924  56.716724  339.260010   \n",
       "...               ...         ...         ...        ...         ...   \n",
       "2021-12-27  48.978291  346.179993  336.971680  93.241409  613.119995   \n",
       "2021-12-28  48.808552  346.220001  335.790833  91.770180  610.710022   \n",
       "2021-12-29  48.874561  342.940002  336.479706  94.959518  610.539978   \n",
       "2021-12-30  48.789700  344.359985  333.891785  92.708214  612.090027   \n",
       "2021-12-31  48.563385  336.350006  330.939758  92.075592  602.440002   \n",
       "\n",
       "                  NVDA       ORCL        PYPL        QCOM         TXN  \n",
       "Date                                                                   \n",
       "2020-01-02   59.749298  50.739220  110.750000   81.464775  117.016319  \n",
       "2020-01-03   58.792953  50.560528  108.760002   79.930817  115.462952  \n",
       "2020-01-06   59.039505  50.823860  110.169998   79.462395  114.659195  \n",
       "2020-01-07   59.754272  50.936726  109.669998   81.721970  116.871819  \n",
       "2020-01-08   59.866348  51.135105  111.820000   81.483154  117.187904  \n",
       "...                ...        ...         ...         ...         ...  \n",
       "2021-12-27  309.050995  87.013092  192.009995  178.767929  182.546692  \n",
       "2021-12-28  302.828979  86.148201  190.100006  177.319199  181.842545  \n",
       "2021-12-29  299.623138  85.720612  189.970001  178.643219  181.566574  \n",
       "2021-12-30  295.478455  85.526268  191.880005  175.314011  180.234421  \n",
       "2021-12-31  293.730743  84.748840  188.580002  175.448349  179.339951  \n",
       "\n",
       "[505 rows x 20 columns]"
      ]
     },
     "execution_count": 10,
     "metadata": {},
     "output_type": "execute_result"
    }
   ],
   "source": [
    "data"
   ]
  },
  {
   "cell_type": "code",
   "execution_count": 11,
   "id": "17a1f6e0",
   "metadata": {},
   "outputs": [],
   "source": [
    "# Calculate daily returns\n",
    "returns = data.pct_change()"
   ]
  },
  {
   "cell_type": "code",
   "execution_count": 12,
   "id": "b0bc0aa9",
   "metadata": {},
   "outputs": [],
   "source": [
    "# Calculate mean returns and covariance matrix\n",
    "mean_returns = returns.mean()\n",
    "cov_matrix = returns.cov()"
   ]
  },
  {
   "cell_type": "code",
   "execution_count": 13,
   "id": "1e56c94e",
   "metadata": {},
   "outputs": [],
   "source": [
    "# Define risk-free rate \n",
    "risk_free_rate = 0.01"
   ]
  },
  {
   "cell_type": "code",
   "execution_count": 14,
   "id": "fb110006",
   "metadata": {},
   "outputs": [],
   "source": [
    "# Define the objective function for portfolio optimization\n",
    "def objective(weights):\n",
    "    portfolio_return = np.sum(mean_returns * weights)\n",
    "    portfolio_stddev = np.sqrt(np.dot(weights.T, np.dot(cov_matrix, weights)))\n",
    "    sharpe_ratio = (portfolio_return - risk_free_rate) / portfolio_stddev\n",
    "    return -sharpe_ratio\n"
   ]
  },
  {
   "cell_type": "code",
   "execution_count": 15,
   "id": "dd62a166",
   "metadata": {},
   "outputs": [],
   "source": [
    "# Define optimization constraints (sum of weights = 1)\n",
    "constraints = ({'type': 'eq', 'fun': lambda weights: np.sum(weights) - 1})"
   ]
  },
  {
   "cell_type": "code",
   "execution_count": 17,
   "id": "3d8d6fbc",
   "metadata": {},
   "outputs": [],
   "source": [
    "# Define the bounds for asset weights (0 <= weight <= 1)\n",
    "bounds = tuple((0, 1) for asset in range(len(asset)))"
   ]
  },
  {
   "cell_type": "code",
   "execution_count": 20,
   "id": "60089c6b",
   "metadata": {},
   "outputs": [],
   "source": [
    "# Initial guess for weights (equal-weighted portfolio)\n",
    "initial_weights = len(asset) * [1.0 / len(asset)]"
   ]
  },
  {
   "cell_type": "code",
   "execution_count": 21,
   "id": "0529d659",
   "metadata": {},
   "outputs": [],
   "source": [
    "# Run the portfolio optimization\n",
    "optimal_weights = minimize(objective, initial_weights, method='SLSQP', bounds=bounds, constraints=constraints)\n"
   ]
  },
  {
   "cell_type": "code",
   "execution_count": 22,
   "id": "cbdb698e",
   "metadata": {},
   "outputs": [],
   "source": [
    "# Extract optimal portfolio weights\n",
    "optimal_weights = optimal_weights.x"
   ]
  },
  {
   "cell_type": "code",
   "execution_count": 23,
   "id": "edb11dfe",
   "metadata": {},
   "outputs": [],
   "source": [
    "# Calculate optimal portfolio statistics\n",
    "optimal_portfolio_return = np.sum(mean_returns * optimal_weights)\n",
    "optimal_portfolio_stddev = np.sqrt(np.dot(optimal_weights.T, np.dot(cov_matrix, optimal_weights)))"
   ]
  },
  {
   "cell_type": "code",
   "execution_count": 25,
   "id": "c2d0caa0",
   "metadata": {},
   "outputs": [
    {
     "name": "stdout",
     "output_type": "stream",
     "text": [
      "Optimal Portfolio Weights:\n",
      "AAPL: 0.0000\n",
      "MSFT: 0.0000\n",
      "AMZN: 0.0000\n",
      "GOOGL: 0.0000\n",
      "META: 0.0000\n",
      "INTC: 0.0000\n",
      "NVDA: 0.0000\n",
      "ADBE: 0.0000\n",
      "CRM: 0.0000\n",
      "PYPL: 0.0000\n",
      "AMD: 0.0000\n",
      "TXN: 0.0000\n",
      "AVGO: 0.0000\n",
      "ORCL: 0.0000\n",
      "IBM: 0.0000\n",
      "CSCO: 1.0000\n",
      "QCOM: 0.0000\n",
      "NFLX: 0.0000\n",
      "AMAT: 0.0000\n",
      "MU: 0.0000\n",
      "Expected Return: 0.0037\n",
      "Standard Deviation (Risk): 0.0326\n"
     ]
    }
   ],
   "source": [
    "# Print the results\n",
    "print(\"Optimal Portfolio Weights:\")\n",
    "for asset, weight in zip(asset, optimal_weights):\n",
    "    print(f\"{asset}: {weight:.4f}\")\n",
    "\n",
    "print(f\"Expected Return: {optimal_portfolio_return:.4f}\")\n",
    "print(f\"Standard Deviation (Risk): {optimal_portfolio_stddev:.4f}\")"
   ]
  },
  {
   "cell_type": "markdown",
   "id": "86cab595",
   "metadata": {},
   "source": [
    "The output above represents the optimal portfolio weights and key performance metrics for the portfolio based on the optimization process. Let's break down the results:\n",
    "\n",
    "Optimal Portfolio Weights:\n",
    "\n",
    "This section displays the weights assigned to each asset in your portfolio. In your output, it appears that the portfolio is entirely invested in a single asset, which is \"CSCO\" (Cisco Systems). The weights for all other assets are zero. This suggests that the optimization process has determined that a portfolio consisting entirely of Cisco Systems stock is the optimal choice given the input data and constraints.\n",
    "Expected Return:\n",
    "\n",
    "The \"Expected Return\" represents the average return that you can expect to achieve with the portfolio. In your output, the expected return is approximately 0.0037, which is equivalent to 0.37%. This means that, on average, you can expect a 0.37% daily return from your portfolio.\n",
    "Standard Deviation (Risk):\n",
    "\n",
    "The \"Standard Deviation,\" often referred to as risk, measures the volatility or variability of returns. In your output, the standard deviation is approximately 0.0326, which is equivalent to 3.26%. This indicates the daily risk or volatility associated with the portfolio"
   ]
  },
  {
   "cell_type": "code",
   "execution_count": 26,
   "id": "d01915f1",
   "metadata": {},
   "outputs": [
    {
     "data": {
      "image/png": "[encoded data removed]",
      "text/plain": [
       "<Figure size 432x288 with 1 Axes>"
      ]
     },
     "metadata": {
      "needs_background": "light"
     },
     "output_type": "display_data"
    }
   ],
   "source": [
    "# Plot the efficient frontier\n",
    "plt.scatter(returns.std(), returns.mean(), marker='o')\n",
    "plt.title('Efficient Frontier')\n",
    "plt.xlabel('Risk')\n",
    "plt.ylabel('Return')\n",
    "plt.show()"
   ]
  },
  {
   "cell_type": "markdown",
   "id": "3df2ef15",
   "metadata": {},
   "source": [
    "Efficient Frontier represents a set of portfolios that offer the maximum expected return for a given level of risk (or conversely, the minimum risk for a given level of return).\n",
    "\n",
    "The code generates a scatter plot where each point represents a different portfolio with a specific risk (standard deviation) and return (mean return). By plotting the Efficient Frontier, you can visualize the trade-off between risk and return for various portfolios, helping you identify the optimal portfolio based on your risk tolerance and return expectations. The Efficient Frontier is a fundamental concept in portfolio optimization and provides valuable insights for constructing well-balanced investment portfolios."
   ]
  },
  {
   "cell_type": "markdown",
   "id": "db55baca",
   "metadata": {},
   "source": [
    "### TEST THE STRATEGY ON OUT-OF-SAMPLE DATA AND VALIDATE ITS PERFORMANCE"
   ]
  },
  {
   "cell_type": "code",
   "execution_count": 41,
   "id": "7fe60e68",
   "metadata": {},
   "outputs": [
    {
     "name": "stdout",
     "output_type": "stream",
     "text": [
      "[*********************100%%**********************]  20 of 20 completed\n"
     ]
    }
   ],
   "source": [
    "test_start_date = '2022-01-02'\n",
    "test_data = yf.download(asset, start=test_start_date)['Adj Close']  # Out-of-sample testing data"
   ]
  },
  {
   "cell_type": "code",
   "execution_count": 42,
   "id": "f09a91a5",
   "metadata": {},
   "outputs": [],
   "source": [
    "test_returns = test_data.pct_change()"
   ]
  },
  {
   "cell_type": "code",
   "execution_count": 43,
   "id": "00e8944b",
   "metadata": {},
   "outputs": [],
   "source": [
    "# Calculate mean returns and covariance matrix\n",
    "mean_returns = returns.mean()\n",
    "cov_matrix = returns.cov()"
   ]
  },
  {
   "cell_type": "code",
   "execution_count": 44,
   "id": "5bf7d537",
   "metadata": {},
   "outputs": [],
   "source": [
    "# Calculate portfolio daily returns for both in-sample and out-of-sample periods\n",
    "portfolio_returns = np.dot(returns, optimal_weights)\n",
    "test_portfolio_returns = np.dot(test_returns, optimal_weights)"
   ]
  },
  {
   "cell_type": "code",
   "execution_count": 66,
   "id": "d07d0d9a",
   "metadata": {},
   "outputs": [
    {
     "name": "stdout",
     "output_type": "stream",
     "text": [
      "Number of missing values in portfolio_returns: 1\n"
     ]
    }
   ],
   "source": [
    "missing_values = np.isnan(portfolio_returns).sum()\n",
    "print(\"Number of missing values in portfolio_returns:\", missing_values)\n"
   ]
  },
  {
   "cell_type": "code",
   "execution_count": 68,
   "id": "36b0b4c0",
   "metadata": {},
   "outputs": [],
   "source": [
    "# Calculate the mean of non-missing values\n",
    "mean_value = np.nanmean(portfolio_returns)\n",
    "\n",
    "# Replace missing values with the mean\n",
    "portfolio_returns[np.isnan(portfolio_returns)] = mean_value"
   ]
  },
  {
   "cell_type": "code",
   "execution_count": 69,
   "id": "a2f395d9",
   "metadata": {},
   "outputs": [
    {
     "name": "stdout",
     "output_type": "stream",
     "text": [
      "Number of missing values in portfolio_returns: 0\n"
     ]
    }
   ],
   "source": [
    "missing_values = np.isnan(portfolio_returns).sum()\n",
    "print(\"Number of missing values in portfolio_returns:\", missing_values)\n"
   ]
  },
  {
   "cell_type": "code",
   "execution_count": 81,
   "id": "203696fc",
   "metadata": {},
   "outputs": [
    {
     "name": "stdout",
     "output_type": "stream",
     "text": [
      "Number of missing values in portfolio_returns: 1\n"
     ]
    }
   ],
   "source": [
    "missing_values = np.isnan(test_portfolio_returns).sum()\n",
    "print(\"Number of missing values in portfolio_returns:\", missing_values)\n"
   ]
  },
  {
   "cell_type": "code",
   "execution_count": 82,
   "id": "e3077a1a",
   "metadata": {},
   "outputs": [],
   "source": [
    "# Calculate the mean of non-missing values\n",
    "mean_value = np.nanmean(test_portfolio_returns)\n",
    "\n",
    "# Replace missing values with the mean\n",
    "test_portfolio_returns[np.isnan(test_portfolio_returns)] = mean_value\n"
   ]
  },
  {
   "cell_type": "code",
   "execution_count": 83,
   "id": "83b83dec",
   "metadata": {},
   "outputs": [
    {
     "name": "stdout",
     "output_type": "stream",
     "text": [
      "Number of missing values in portfolio_returns: 0\n"
     ]
    }
   ],
   "source": [
    "missing_values = np.isnan(test_portfolio_returns).sum()\n",
    "print(\"Number of missing values in portfolio_returns:\", missing_values)"
   ]
  },
  {
   "cell_type": "code",
   "execution_count": 87,
   "id": "6a96d879",
   "metadata": {},
   "outputs": [],
   "source": [
    "# Calculate portfolio cumulative returns for both in-sample and out-of-sample periods\n",
    "cumulative_returns = (1 + portfolio_returns).cumprod()\n",
    "test_cumulative_returns = (1+test_portfolio_returns).cumprod()"
   ]
  },
  {
   "cell_type": "code",
   "execution_count": 88,
   "id": "1352fd44",
   "metadata": {},
   "outputs": [
    {
     "data": {
      "text/plain": [
       "array([1.00369673, 0.98763161, 0.9917733 , 1.0037803 , 1.005663  ,\n",
       "       1.01670788, 1.02214676, 1.05419333, 1.03453011, 1.02737591,\n",
       "       1.04143299, 1.0428975 , 1.03729143, 1.04636986, 1.05787478,\n",
       "       1.04791774, 1.00490992, 1.03741677, 1.0272505 , 1.02838019,\n",
       "       0.98913771, 1.00545403, 1.03390269, 1.0490892 , 1.06368988,\n",
       "       1.05256144, 1.1001713 , 1.12075466, 1.14020865, 1.1328456 ,\n",
       "       1.2123765 , 1.24074147, 1.31659116, 1.29148907, 1.23028241,\n",
       "       1.14330466, 1.09632234, 1.11975064, 1.05741917, 1.13055112,\n",
       "       1.15717501, 1.11305314, 1.19099879, 1.14403044, 1.11368088,\n",
       "       1.0274464 , 1.09291758, 1.03175809, 0.90550415, 1.0081901 ,\n",
       "       0.82215806, 0.9095228 , 0.84903309, 0.89152237, 0.8612984 ,\n",
       "       0.89035026, 1.04310249, 1.02819993, 1.07684297, 1.05796334,\n",
       "       1.11179715, 1.10346661, 1.01752524, 1.06943341, 1.02104175,\n",
       "       1.12356013, 1.08433585, 1.11749062, 1.10074585, 1.12963014,\n",
       "       1.18865484, 1.175636  , 1.23365603, 1.22369283, 1.20163164,\n",
       "       1.1282069 , 1.19786418, 1.18890578, 1.21226435, 1.24361858,\n",
       "       1.21967379, 1.24939562, 1.22352519, 1.18375686, 1.21938107,\n",
       "       1.22963686, 1.24659105, 1.2762288 , 1.30816911, 1.35053298,\n",
       "       1.30649455, 1.30272696, 1.34467213, 1.42173872, 1.46519107,\n",
       "       1.47444271, 1.50198719, 1.46937736, 1.51140608, 1.45974892,\n",
       "       1.42751601, 1.42111111, 1.48616352, 1.47456805, 1.47774955,\n",
       "       1.4684146 , 1.46858211, 1.49429644, 1.47503162, 1.51540423,\n",
       "       1.56913711, 1.47356595, 1.49639074, 1.53680539, 1.51917361,\n",
       "       1.54723343, 1.54421803, 1.55146368, 1.59594081, 1.58308333,\n",
       "       1.54714987, 1.58978429, 1.53366426, 1.54120263, 1.59108244,\n",
       "       1.59648537, 1.61026357, 1.64829146, 1.65373566, 1.71140542,\n",
       "       1.76048922, 1.75550551, 1.6839736 , 1.73837625, 1.71329018,\n",
       "       1.69779396, 1.70897637, 1.76078233, 1.73025141, 1.7487206 ,\n",
       "       1.69695642, 1.70780343, 1.74583119, 1.71132148, 1.75320218,\n",
       "       1.77807922, 1.77820482, 1.84445952, 1.88089576, 1.8907795 ,\n",
       "       1.89894612, 1.87616299, 1.87038378, 1.81761391, 1.91649408,\n",
       "       1.91695457, 1.93722495, 2.06671947, 2.05394581, 2.03346652,\n",
       "       2.03388535, 2.12476577, 2.13092217, 2.13590601, 2.13975921,\n",
       "       2.11551042, 2.20253803, 2.24052349, 2.3160151 , 2.40407377,\n",
       "       2.18103575, 2.11517963, 1.99628719, 2.1306802 , 2.06310658,\n",
       "       2.03843178, 2.15703098, 2.17693046, 2.09708172, 2.08853562,\n",
       "       2.04257898, 2.09754272, 2.11773505, 2.03160304, 2.06918121,\n",
       "       2.15728269, 2.18430311, 2.21626804, 2.26733553, 2.28141157,\n",
       "       2.18886953, 2.28610359, 2.30185523, 2.33997809, 2.31898897,\n",
       "       2.30625452, 2.38388131, 2.38760981, 2.36197174, 2.34098288,\n",
       "       2.31442281, 2.26184685, 2.28660573, 2.26637149, 2.23893172,\n",
       "       2.27734781, 2.20210817, 2.24492227, 2.11593386, 2.1824604 ,\n",
       "       2.10034973, 2.10818339, 2.18170578, 2.31153224, 2.3728222 ,\n",
       "       2.44018576, 2.28413451, 2.13989634, 2.24848287, 2.25497685,\n",
       "       2.22820711, 2.26477972, 2.24919597, 2.25028483, 2.25221188,\n",
       "       2.19314271, 2.20189824, 2.17135797, 2.21777599, 2.22221655,\n",
       "       2.24571842, 2.24379137, 2.26968115, 2.24545978, 2.27265656,\n",
       "       2.28078614, 2.23774929, 2.16747414, 2.17443002, 2.18130258,\n",
       "       2.23083469, 2.23950922, 2.21973046, 2.23628261, 2.2246747 ,\n",
       "       2.23477388, 2.22572256, 2.18063229, 2.17803368, 2.16231946,\n",
       "       2.16956934, 2.20351231, 2.18830126, 2.19810669, 2.24692673,\n",
       "       2.11446359, 2.23674373, 2.2254711 , 2.28325839, 2.26033633,\n",
       "       2.26821446, 2.21264822, 2.15553097, 2.1833137 , 2.24038943,\n",
       "       2.32449354, 2.29851225, 2.28858071, 2.25203886, 2.16529487,\n",
       "       2.18763072, 2.17736365, 2.21880795, 2.27240511, 2.2680053 ,\n",
       "       2.29042445, 2.27814626, 2.42024732, 2.39083001, 2.47480877,\n",
       "       2.55635629, 2.50783   , 2.56968234, 2.49856849, 2.48566154,\n",
       "       2.50200478, 2.40633481, 2.3705058 , 2.43034701, 2.23062502,\n",
       "       2.29884752, 2.32017704, 2.24717793, 2.14635341, 2.07352206,\n",
       "       2.08881744, 1.94327984, 2.09938954, 2.09067016, 2.17874395,\n",
       "       2.1556881 , 2.21190232, 2.2286708 , 2.2370544 , 2.13330253,\n",
       "       2.15396944, 2.21106465, 2.19169705, 2.11997238, 2.10190485,\n",
       "       2.15287955, 2.17115624, 2.15832926, 2.23822811, 2.31594768,\n",
       "       2.34541729, 2.32429002, 2.37157544, 2.40066773, 2.41458537,\n",
       "       2.55023783, 2.62913112, 2.5616399 , 2.70588666, 2.66820058,\n",
       "       2.57585104, 2.54390842, 2.57564111, 2.49008313, 2.55967031,\n",
       "       2.59534347, 2.57920453, 2.56159787, 2.56964696, 2.51678572,\n",
       "       2.48781928, 2.40641068, 2.42439439, 2.43520948, 2.48371117,\n",
       "       2.39207395, 2.39886526, 2.30701914, 2.29138259, 2.38825933,\n",
       "       2.3752642 , 2.35015442, 2.35853827, 2.45021702, 2.51380928,\n",
       "       2.61781286, 2.62380752, 2.63256843, 2.5970206 , 2.72387037,\n",
       "       2.72722386, 2.81336907, 2.84547959, 2.94751281, 2.95434539,\n",
       "       2.92718168, 2.91129034, 2.9224853 , 2.98961433, 3.02206806,\n",
       "       2.9834505 , 2.98709851, 3.12915574, 3.12605293, 3.09058098,\n",
       "       3.16764719, 3.19624298, 3.22110746, 3.19184061, 3.35184362,\n",
       "       3.35884589, 3.35477828, 3.38991572, 3.43603769, 3.47151016,\n",
       "       3.41670828, 3.33804825, 3.36278687, 3.44031446, 3.39628872,\n",
       "       3.32777579, 3.18098066, 3.0459257 , 3.14970167, 3.12156649,\n",
       "       3.25540545, 3.28626536, 3.28022764, 3.23595018, 3.2215263 ,\n",
       "       3.27100355, 3.29767051, 3.27033275, 3.31242992, 3.32333062,\n",
       "       3.40031378, 3.46119592, 3.41574399, 3.40383618, 3.34362535,\n",
       "       3.30387612, 3.33842581, 3.38589015, 3.34597354, 3.26345634,\n",
       "       3.19335011, 3.32048004, 3.49121739, 3.68275085, 3.65507706,\n",
       "       3.72551907, 3.70119979, 3.79646374, 3.80518492, 3.75502841,\n",
       "       3.76442244, 3.75687394, 3.831857  , 3.80149462, 3.74731202,\n",
       "       3.72013703, 3.77062882, 3.71594357, 3.73104081, 3.74764781,\n",
       "       3.73104081, 3.67367108, 3.54165381, 3.56396454, 3.68054851,\n",
       "       3.77129988, 3.70403346, 3.63341176, 3.47220633, 3.44167606,\n",
       "       3.4750582 , 3.47941955, 3.30999458, 3.43060439, 3.47237397,\n",
       "       3.53527928, 3.49434891, 3.47153528, 3.46750945, 3.5124654 ,\n",
       "       3.64783795, 3.66729655, 3.72768553, 3.73909247, 3.70772376,\n",
       "       3.80652704, 3.81223051, 3.88603934, 4.14621568, 4.10159449,\n",
       "       4.18379129, 4.2888012 , 4.33241478, 4.428703  , 4.46174884,\n",
       "       4.99904352, 4.99082423, 5.1672953 , 5.1426364 , 4.94167456,\n",
       "       5.09784731, 5.09784731, 5.03662015, 5.06647835, 4.90846006,\n",
       "       5.31340323, 5.53315261, 5.36054024, 5.32531308, 5.48098293,\n",
       "       5.28455034, 5.5987419 , 5.48131871, 5.27378882, 5.38971764,\n",
       "       5.14930544, 5.03924902, 5.44021455, 5.33938682, 5.11524814,\n",
       "       5.06626098, 4.7245161 , 4.75404415, 5.11004732, 4.76243159,\n",
       "       4.66412046, 4.65036251, 4.87785699, 4.93238178, 4.9726452 ,\n",
       "       5.19158357, 5.08706324, 5.03321002, 4.96358567, 4.9342268 ])"
      ]
     },
     "execution_count": 88,
     "metadata": {},
     "output_type": "execute_result"
    }
   ],
   "source": [
    "cumulative_returns"
   ]
  },
  {
   "cell_type": "code",
   "execution_count": 89,
   "id": "45a45f0c",
   "metadata": {},
   "outputs": [
    {
     "data": {
      "text/plain": [
       "array([1.00147081, 0.9738415 , 0.91778495, 0.93686947, 0.90591531,\n",
       "       0.91100215, 0.92486694, 0.93091794, 0.88357258, 0.89577444,\n",
       "       0.86122965, 0.83343413, 0.80294544, 0.77714482, 0.77707827,\n",
       "       0.74223418, 0.75712941, 0.72959972, 0.75939014, 0.81411685,\n",
       "       0.81917057, 0.83925252, 0.79622929, 0.80856434, 0.82216295,\n",
       "       0.83479725, 0.88789481, 0.85860307, 0.79626256, 0.80683547,\n",
       "       0.88091258, 0.88144444, 0.81481507, 0.78605535, 0.77767673,\n",
       "       0.7443288 , 0.78957964, 0.80317824, 0.81075873, 0.78056939,\n",
       "       0.80541007, 0.78858353, 0.762712  , 0.71003775, 0.71542496,\n",
       "       0.76530576, 0.75346741, 0.7349117 , 0.7093062 , 0.76394233,\n",
       "       0.81458816, 0.82356671, 0.87966599, 0.88901044, 0.88202699,\n",
       "       0.85243108, 0.93609794, 0.92086779, 0.9383923 , 0.95292448,\n",
       "       0.92080115, 0.90736652, 0.88827874, 0.90982729, 0.86230749,\n",
       "       0.81162855, 0.80501095, 0.76879748, 0.72882627, 0.71509233,\n",
       "       0.73833683, 0.70691187, 0.72437024, 0.73817062, 0.71436073,\n",
       "       0.67116398, 0.64895038, 0.66181962, 0.62477469, 0.61237101,\n",
       "       0.65782916, 0.61676055, 0.64954888, 0.65184339, 0.67618519,\n",
       "       0.62663691, 0.62101704, 0.563654  , 0.58510273, 0.55301272,\n",
       "       0.53788224, 0.58879394, 0.57409575, 0.60445659, 0.56325493,\n",
       "       0.56944024, 0.55514102, 0.56192478, 0.53718391, 0.56448537,\n",
       "       0.59361566, 0.62553956, 0.62091727, 0.60921187, 0.65151087,\n",
       "       0.62251351, 0.6247082 , 0.62936371, 0.62025024, 0.60029361,\n",
       "       0.56457142, 0.52043413, 0.52672042, 0.54970377, 0.51890414,\n",
       "       0.52818397, 0.551001  , 0.54414923, 0.53965896, 0.56962712,\n",
       "       0.56107898, 0.53157654, 0.5169417 , 0.50420285, 0.48304875,\n",
       "       0.49771682, 0.50323819, 0.52745222, 0.52678697, 0.50396999,\n",
       "       0.5016417 , 0.50436911, 0.51128739, 0.52425914, 0.53553459,\n",
       "       0.56517013, 0.59227779, 0.60036021, 0.57604646, 0.56623451,\n",
       "       0.54990335, 0.5917124 , 0.59816491, 0.60411873, 0.61336529,\n",
       "       0.61619237, 0.62839915, 0.63910922, 0.63159224, 0.59181212,\n",
       "       0.56829666, 0.60192348, 0.59676801, 0.62227918, 0.63302251,\n",
       "       0.62793354, 0.60983958, 0.62440788, 0.59367479, 0.56656708,\n",
       "       0.57145647, 0.5728201 , 0.59580345, 0.54082305, 0.52555628,\n",
       "       0.51448036, 0.50204077, 0.46355789, 0.45391226, 0.44785867,\n",
       "       0.45627626, 0.46545897, 0.4786675 , 0.48259345, 0.43687933,\n",
       "       0.43677956, 0.43015861, 0.43910851, 0.44523037, 0.43837656,\n",
       "       0.4412046 , 0.41791497, 0.41641781, 0.40683583, 0.41299088,\n",
       "       0.42373737, 0.40656962, 0.40387469, 0.4162847 , 0.43807705,\n",
       "       0.43947446, 0.4368461 , 0.4017786 , 0.38827067, 0.38547592,\n",
       "       0.3826146 , 0.3979192 , 0.37353166, 0.3955237 , 0.39815211,\n",
       "       0.40094688, 0.4057046 , 0.41475427, 0.41917926, 0.4412046 ,\n",
       "       0.4290607 , 0.43837656, 0.46026875, 0.4490565 , 0.4505869 ,\n",
       "       0.43980724, 0.44652796, 0.47098197, 0.47580618, 0.48582082,\n",
       "       0.45833903, 0.52401572, 0.54321301, 0.54214823, 0.55449176,\n",
       "       0.52933903, 0.52158695, 0.51267032, 0.50960936, 0.53359765,\n",
       "       0.54960095, 0.54131651, 0.52657758, 0.52032258, 0.5631864 ,\n",
       "       0.57024163, 0.56162227, 0.55277001, 0.53203692, 0.53646308,\n",
       "       0.57137316, 0.56578215, 0.58355338, 0.60142433, 0.58817918,\n",
       "       0.56415152, 0.55147211, 0.54092252, 0.53529833, 0.5491425 ,\n",
       "       0.51047192, 0.50604576, 0.4699377 , 0.4671089 , 0.48597834,\n",
       "       0.48634439, 0.47639382, 0.49083715, 0.47472992, 0.49449783,\n",
       "       0.52008962, 0.52944113, 0.53250285, 0.54947533, 0.56238775,\n",
       "       0.58911102, 0.57829525, 0.55792827, 0.59367027, 0.63873047,\n",
       "       0.64112662, 0.64305686, 0.65899768, 0.67773393, 0.6376989 ,\n",
       "       0.65017858, 0.69696942, 0.72246134, 0.70219423, 0.70182818,\n",
       "       0.73790296, 0.7389679 , 0.74336078, 0.70768533, 0.72509051,\n",
       "       0.76445992, 0.75757106, 0.73221223, 0.71177876, 0.68738495,\n",
       "       0.69067962, 0.78752251, 0.77494291, 0.78209791, 0.7726134 ,\n",
       "       0.75537464, 0.77587476, 0.79504361, 0.78386178, 0.77514113,\n",
       "       0.8048646 , 0.78006729, 0.76439002, 0.76442334, 0.80093697,\n",
       "       0.80642898, 0.8501322 , 0.8562567 , 0.86208154, 0.87203374,\n",
       "       0.88098746, 0.90505245, 0.89133904, 0.88308431, 0.87905692,\n",
       "       0.89816247, 0.91144318, 0.92455738, 0.93081502, 0.9137731 ,\n",
       "       0.89473409, 0.89992649, 0.91796711, 0.90432024, 0.88188618,\n",
       "       0.88082104, 0.89064005, 0.89876148, 0.92089614, 0.92968334,\n",
       "       0.90215664, 0.90265589, 0.90009301, 0.87343171, 0.89723042,\n",
       "       0.90621746, 0.92362543, 0.96226944, 0.93896998, 0.92538956,\n",
       "       0.91740111, 0.95461383, 0.97029111, 0.95098571, 0.96143726,\n",
       "       0.95121878, 0.94329688, 0.96370063, 0.97235474, 1.00447482,\n",
       "       1.05440226, 1.0406223 , 1.03769326, 1.0214501 , 1.01645743,\n",
       "       1.26416427, 1.29631757, 1.33509457, 1.2593047 , 1.3237446 ,\n",
       "       1.30899927, 1.30380677, 1.28659843, 1.24748444, 1.28193809,\n",
       "       1.29059311, 1.31429439, 1.36555863, 1.43130324, 1.41985208,\n",
       "       1.42115038, 1.45830021, 1.43290115, 1.43223539, 1.405072  ,\n",
       "       1.35257611, 1.393987  , 1.36872103, 1.3589009 , 1.40816776,\n",
       "       1.41186283, 1.4086672 , 1.40154345, 1.41485881, 1.40410653,\n",
       "       1.41159644, 1.46142929, 1.53050281, 1.51359236, 1.54661441,\n",
       "       1.58100142, 1.56712007, 1.51529004, 1.47497771, 1.48506412,\n",
       "       1.52058292, 1.51302636, 1.52793963, 1.5562348 , 1.55553582,\n",
       "       1.54814578, 1.47364618, 1.48183507, 1.48732769, 1.51186135,\n",
       "       1.48679512, 1.41655649, 1.41103065, 1.35999937, 1.45646934,\n",
       "       1.46269427, 1.44758126, 1.44285437, 1.44135633, 1.56345843,\n",
       "       1.52021666, 1.56841837, 1.56998296, 1.53186766, 1.55906437,\n",
       "       1.62394348, 1.63992199, 1.64295119, 1.61478921, 1.61608752,\n",
       "       1.56671653, 1.53941782, 1.517146  , 1.50402927, 1.49377563,\n",
       "       1.51424969, 1.51744561, 1.46148313, 1.46368036, 1.44883252,\n",
       "       1.40618652, 1.36550468, 1.38524633, 1.40562052])"
      ]
     },
     "execution_count": 89,
     "metadata": {},
     "output_type": "execute_result"
    }
   ],
   "source": [
    "test_cumulative_returns"
   ]
  },
  {
   "cell_type": "code",
   "execution_count": 90,
   "id": "2ac37271",
   "metadata": {},
   "outputs": [],
   "source": [
    "# Calculate portfolio volatility for both in-sample and out-of-sample periods\n",
    "portfolio_volatility = np.std(portfolio_returns)\n",
    "test_portfolio_volatility = np.std(test_portfolio_returns)"
   ]
  },
  {
   "cell_type": "code",
   "execution_count": null,
   "id": "9bd5fc1f",
   "metadata": {},
   "outputs": [],
   "source": []
  },
  {
   "cell_type": "code",
   "execution_count": 91,
   "id": "d9e01dc5",
   "metadata": {},
   "outputs": [],
   "source": [
    "# Calculate Sharpe ratio for both in-sample and out-of-sample periods\n",
    "sharpe_ratio = (portfolio_returns.mean() - risk_free_rate) / portfolio_volatility\n",
    "test_sharpe_ratio = (test_portfolio_returns.mean() - risk_free_rate) / test_portfolio_volatility"
   ]
  },
  {
   "cell_type": "code",
   "execution_count": 92,
   "id": "02a98b00",
   "metadata": {},
   "outputs": [],
   "source": [
    "# Calculate Sortino ratio (assuming a target return of the risk-free rate) for both in-sample and out-of-sample periods\n",
    "downside_returns = portfolio_returns[portfolio_returns < risk_free_rate]\n",
    "test_downside_returns = test_portfolio_returns[test_portfolio_returns < risk_free_rate]\n",
    "downside_volatility = np.std(downside_returns)\n",
    "test_downside_volatility = np.std(test_downside_returns)\n",
    "sortino_ratio = (portfolio_returns.mean() - risk_free_rate) / downside_volatility\n",
    "test_sortino_ratio = (test_portfolio_returns.mean() - risk_free_rate) / test_downside_volatility\n"
   ]
  },
  {
   "cell_type": "code",
   "execution_count": 93,
   "id": "be01ce87",
   "metadata": {},
   "outputs": [],
   "source": [
    "# Calculate maximum drawdown for both in-sample and out-of-sample periods\n",
    "\n",
    "peak = cumulative_returns.max()\n",
    "trough = np.min(cumulative_returns)\n",
    "max_drawdown = (peak - trough) / peak\n",
    "test_peak = test_cumulative_returns.max()\n",
    "test_trough = np.min(test_cumulative_returns)\n",
    "test_max_drawdown = (test_peak - test_trough) / test_peak"
   ]
  },
  {
   "cell_type": "code",
   "execution_count": 94,
   "id": "59b552a6",
   "metadata": {},
   "outputs": [
    {
     "name": "stdout",
     "output_type": "stream",
     "text": [
      "In-sample Performance Metrics:\n",
      "Sharpe Ratio: -0.19354218074735938\n",
      "Sortino Ratio: -0.27803445633268736\n",
      "Maximum Drawdown: 0.853153069239227\n",
      "\n",
      "Out-of-sample Performance Metrics:\n",
      "Sharpe Ratio: -0.22818010103681824\n",
      "Sortino Ratio: -0.37728060909551814\n",
      "Maximum Drawdown: 0.7726459179507611\n"
     ]
    }
   ],
   "source": [
    "# Print the performance metrics for both in-sample and out-of-sample periods\n",
    "print(\"In-sample Performance Metrics:\")\n",
    "print(\"Sharpe Ratio:\", sharpe_ratio)\n",
    "print(\"Sortino Ratio:\", sortino_ratio)\n",
    "print(\"Maximum Drawdown:\", max_drawdown)\n",
    "print(\"\\nOut-of-sample Performance Metrics:\")\n",
    "print(\"Sharpe Ratio:\", test_sharpe_ratio)\n",
    "print(\"Sortino Ratio:\", test_sortino_ratio)\n",
    "print(\"Maximum Drawdown:\", test_max_drawdown)"
   ]
  },
  {
   "cell_type": "markdown",
   "id": "3817743a",
   "metadata": {},
   "source": [
    "The Sharpe Ratio, Sortino Ratio, and Maximum Drawdown are common performance metrics used in the context of Markowitz's Modern Portfolio Theory and portfolio evaluation. Let's interpret these metrics and evaluate the strategy's performance in both the in-sample and out-of-sample datasets:\n",
    "\n",
    "**In-Sample Performance Metrics:**\n",
    "1. **Sharpe Ratio (In-Sample):** \n",
    "   - Sharpe Ratio measures the risk-adjusted return of a portfolio. A higher Sharpe Ratio indicates better risk-adjusted performance. In your in-sample data, the Sharpe Ratio is approximately -0.1935. A negative Sharpe Ratio suggests that, in the in-sample period, the portfolio didn't generate a positive risk-adjusted return. It indicates that the portfolio's return was not sufficient to compensate for the level of risk taken.\n",
    "\n",
    "2. **Sortino Ratio (In-Sample):** \n",
    "   - Sortino Ratio is similar to the Sharpe Ratio but focuses on downside risk, considering only the volatility of returns below a certain threshold (usually the risk-free rate). Like the Sharpe Ratio, a higher Sortino Ratio is desirable. In your in-sample data, the Sortino Ratio is approximately -0.2780, indicating that the portfolio's downside risk-adjusted performance during the in-sample period was also unfavorable.\n",
    "\n",
    "3. **Maximum Drawdown (In-Sample):** \n",
    "   - Maximum Drawdown measures the largest percentage loss experienced by the portfolio from its previous peak value. A lower Maximum Drawdown is preferred, as it represents smaller losses. In your in-sample data, the Maximum Drawdown is approximately 85.32%, suggesting that, at its worst, the portfolio experienced a substantial loss.\n",
    "\n",
    "**Out-of-Sample Performance Metrics:**\n",
    "1. **Sharpe Ratio (Out-of-Sample):** \n",
    "   - In the out-of-sample data, the Sharpe Ratio is approximately -0.2282. Similar to the in-sample period, a negative Sharpe Ratio indicates that the portfolio's risk-adjusted return was not positive during the out-of-sample period. The portfolio continued to underperform in terms of risk-adjusted returns.\n",
    "\n",
    "2. **Sortino Ratio (Out-of-Sample):** \n",
    "   - In the out-of-sample data, the Sortino Ratio is approximately -0.3773. This ratio also indicates unfavorable downside risk-adjusted performance during the out-of-sample period. It suggests that the portfolio's returns were insufficient to offset the downside risk.\n",
    "\n",
    "3. **Maximum Drawdown (Out-of-Sample):** \n",
    "   - The Maximum Drawdown during the out-of-sample period is approximately 77.26%, indicating that the portfolio still experienced significant losses during this period.\n",
    "\n",
    "Overall, based on the provided metrics, the portfolio strategy did not perform well in either the in-sample or out-of-sample datasets. The negative Sharpe and Sortino Ratios suggest that the portfolio did not generate sufficient returns relative to the level of risk it carried. Additionally, the substantial Maximum Drawdown values indicate significant losses.\n",
    "\n",
    "It's essential to consider these results in the context of your specific investment goals and constraints. Negative performance metrics like these may warrant a reevaluation of the portfolio strategy or further optimization. Additionally, other factors such as transaction costs and market conditions should be taken into account for a comprehensive assessment."
   ]
  },
  {
   "cell_type": "code",
   "execution_count": 95,
   "id": "754d0987",
   "metadata": {},
   "outputs": [
    {
     "data": {
      "image/png": "[encoded data removed]",
      "text/plain": [
       "<Figure size 720x360 with 1 Axes>"
      ]
     },
     "metadata": {
      "needs_background": "light"
     },
     "output_type": "display_data"
    }
   ],
   "source": [
    "\n",
    "plt.figure(figsize=(10, 5))\n",
    "plt.plot(data.index, cumulative_returns, label=\"In-sample Returns\")\n",
    "plt.plot(test_data.index, test_cumulative_returns, label=\"Out-of-sample Returns\")\n",
    "plt.xlabel(\"Date\")\n",
    "plt.ylabel(\"Cumulative Returns\")\n",
    "plt.title(\"Portfolio Cumulative Returns\")\n",
    "plt.legend()\n",
    "plt.grid(True)\n",
    "plt.show()"
   ]
  },
  {
   "cell_type": "markdown",
   "id": "25beec44",
   "metadata": {},
   "source": [
    "## CONCLUSION\n",
    "\n",
    "In summary, the optimization process has determined that the portfolio with 100% allocation to Cisco Systems (CSCO) is the optimal choice based on the given input data and constraints. However, it's essential to interpret these results in the context of your specific objectives and constraints. A portfolio heavily concentrated in a single asset may have higher risk, and your investment strategy should align with your risk tolerance and financial goals. Additionally, these results are based on historical data and assumptions, and real-world investing involves various factors and uncertainties.\n",
    "\n",
    "**In-Sample Performance Metrics:**\n",
    "1. **Sharpe Ratio (In-Sample):** \n",
    "   - Sharpe Ratio measures the risk-adjusted return of a portfolio. A higher Sharpe Ratio indicates better risk-adjusted performance. In your in-sample data, the Sharpe Ratio is approximately -0.1935. A negative Sharpe Ratio suggests that, in the in-sample period, the portfolio didn't generate a positive risk-adjusted return. It indicates that the portfolio's return was not sufficient to compensate for the level of risk taken.\n",
    "\n",
    "\n",
    "Overall, based on the provided metrics, the portfolio strategy did not perform well in either the in-sample or out-of-sample datasets. The negative Sharpe and Sortino Ratios suggest that the portfolio did not generate sufficient returns relative to the level of risk it carried. Additionally, the substantial Maximum Drawdown values indicate significant losses.\n",
    "\n",
    "It's essential to consider these results in the context of your specific investment goals and constraints. Negative performance metrics like these may warrant a reevaluation of the portfolio strategy or further optimization. Additionally, other factors such as transaction costs and market conditions should be taken into account for a comprehensive assessment."
   ]
  },
  {
   "cell_type": "code",
   "execution_count": null,
   "id": "9c0d3ef9",
   "metadata": {},
   "outputs": [],
   "source": []
  },
  {
   "cell_type": "code",
   "execution_count": null,
   "id": "faa151f1",
   "metadata": {},
   "outputs": [],
   "source": []
  }
 ],
 "metadata": {
  "kernelspec": {
   "display_name": "Python 3",
   "language": "python",
   "name": "python3"
  },
  "language_info": {
   "codemirror_mode": {
    "name": "ipython",
    "version": 3
   },
   "file_extension": ".py",
   "mimetype": "text/x-python",
   "name": "python",
   "nbconvert_exporter": "python",
   "pygments_lexer": "ipython3",
   "version": "3.8.9"
  }
 },
 "nbformat": 4,
 "nbformat_minor": 5
}
